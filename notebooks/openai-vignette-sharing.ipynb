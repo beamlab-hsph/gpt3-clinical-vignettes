{
 "cells": [
  {
   "cell_type": "code",
   "execution_count": 1,
   "metadata": {},
   "outputs": [],
   "source": [
    "from paths import *\n",
    "from utils import *\n",
    "\n",
    "vignettes15 = parse_vignettes_2015(VIGNETTES_2015_FP)\n",
    "vignettes20 = parse_vignettes_2020(VIGNETTES_2020_FP)"
   ]
  },
  {
   "cell_type": "code",
   "execution_count": 12,
   "metadata": {},
   "outputs": [],
   "source": [
    "with (DATA/'rough/bmj_vignettes.txt').open('w') as outfile:\n",
    "    outfile.write('\\n'.join(vignettes15['Problem']))"
   ]
  },
  {
   "cell_type": "code",
   "execution_count": 14,
   "metadata": {},
   "outputs": [],
   "source": [
    "with (DATA/'rough/new_vignettes.txt').open('w') as outfile:\n",
    "    outfile.write('\\n'.join(vignettes20['Additional Details']))"
   ]
  }
 ],
 "metadata": {
  "kernelspec": {
   "display_name": "Python [conda env:gpt3_eval]",
   "language": "python",
   "name": "conda-env-gpt3_eval-py"
  },
  "language_info": {
   "codemirror_mode": {
    "name": "ipython",
    "version": 3
   },
   "file_extension": ".py",
   "mimetype": "text/x-python",
   "name": "python",
   "nbconvert_exporter": "python",
   "pygments_lexer": "ipython3",
   "version": "3.9.1"
  }
 },
 "nbformat": 4,
 "nbformat_minor": 2
}
