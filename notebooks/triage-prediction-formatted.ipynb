{
 "cells": [
  {
   "cell_type": "code",
   "execution_count": 1,
   "metadata": {},
   "outputs": [],
   "source": [
    "from paths import *\n",
    "from utils import *\n",
    "\n",
    "import pandas as pd\n",
    "\n",
    "import matplotlib.pyplot as plt\n",
    "import seaborn as sns\n",
    "\n",
    "%matplotlib inline\n",
    "sns.set_theme(style='ticks', palette='Set2')"
   ]
  },
  {
   "cell_type": "code",
   "execution_count": 2,
   "metadata": {},
   "outputs": [],
   "source": [
    "# Read the graded vignettes\n",
    "vignettes15_exact = pd.read_excel(PROCESSED/'vignettes15_triage_prediction_agg_exact.xlsx')\n",
    "vignettes20_exact = pd.read_excel(PROCESSED/'vignettes20_triage_prediction_agg_exact.xlsx')\n",
    "vignettes20_dich = pd.read_excel(PROCESSED/'vignettes20_triage_prediction_agg_dichotomized.xlsx')\n",
    "\n",
    "def preprocess(vignettes_pred: pd.DataFrame) -> pd.DataFrame:\n",
    "    \n",
    "    # Remove NA columns\n",
    "    vignettes_pred = vignettes_pred.dropna().reset_index(drop=True)\n",
    "    \n",
    "    # Drop redundant columns\n",
    "    vignettes_pred.drop([\"Predicted Triage\", \"Number of Predictions\", \"Average Probability\"], \n",
    "                          inplace=True, axis=1)\n",
    "    \n",
    "    \n",
    "    return vignettes_pred\n",
    "    \n",
    "vignettes15_exact = preprocess(vignettes15_exact)\n",
    "vignettes20_exact = preprocess(vignettes20_exact)\n",
    "vignettes20_dich = preprocess(vignettes20_dich)"
   ]
  },
  {
   "cell_type": "markdown",
   "metadata": {},
   "source": [
    "# Vignettes 2015"
   ]
  },
  {
   "cell_type": "code",
   "execution_count": 3,
   "metadata": {},
   "outputs": [
    {
     "name": "stdout",
     "output_type": "stream",
     "text": [
      "Exact Match Accuracy: 0.4666666666666667\n"
     ]
    }
   ],
   "source": [
    "print(\"Exact Match Accuracy:\", vignettes15_exact['Correct(Yes/No)'].value_counts()['Yes'] / vignettes15_exact.shape[0])"
   ]
  },
  {
   "cell_type": "markdown",
   "metadata": {},
   "source": [
    "# Vignettes 2020"
   ]
  },
  {
   "cell_type": "code",
   "execution_count": 4,
   "metadata": {},
   "outputs": [
    {
     "name": "stdout",
     "output_type": "stream",
     "text": [
      "Exact Match Accuracy: 0.42857142857142855\n",
      "Dichotomized Accuracy: 0.7142857142857143\n"
     ]
    }
   ],
   "source": [
    "print(\"Exact Match Accuracy:\", vignettes20_exact['Correct(Yes/No)'].value_counts()['Yes'] / vignettes20_exact.shape[0])\n",
    "print(\"Dichotomized Accuracy:\", vignettes20_dich['Correct(Yes/No)'].value_counts()['Yes'] / vignettes20_dich.shape[0])\n"
   ]
  },
  {
   "cell_type": "code",
   "execution_count": 5,
   "metadata": {},
   "outputs": [
    {
     "data": {
      "image/png": "[encoded data removed]",
      "text/plain": [
       "<Figure size 1152x360 with 2 Axes>"
      ]
     },
     "metadata": {},
     "output_type": "display_data"
    }
   ],
   "source": [
    "fig, axes = plt.subplots(ncols=2, figsize=(16, 5))\n",
    "\n",
    "for vign, ax in zip([vignettes15_exact, vignettes20_exact], axes):\n",
    "    df = vign.groupby('Correct Triage')[\"Correct(Yes/No)\"].agg(lambda s: (s=='Yes').mean())\n",
    "    \n",
    "    try:\n",
    "        df = df.loc[['Emergent', '1-day', '1-week', 'Self-care']]\n",
    "        title = 'New Vignettes'\n",
    "        \n",
    "    except KeyError:\n",
    "        df = df.loc[['Emergent', 'Non-emergent', 'Self-care']]\n",
    "        title = 'BMJ Vignettes'\n",
    "        \n",
    "    df.index = [(col + ' cases') for col in list(df.index)]\n",
    "    sns.barplot(x=df.index, y=df.values, ax=ax, )\n",
    "    ax.set_ylim((0,1))\n",
    "    ax.set_title(title)\n",
    "    ax.set_ylabel('Mean % correct')"
   ]
  }
 ],
 "metadata": {
  "kernelspec": {
   "display_name": "Python [conda env:gpt3_eval]",
   "language": "python",
   "name": "conda-env-gpt3_eval-py"
  },
  "language_info": {
   "codemirror_mode": {
    "name": "ipython",
    "version": 3
   },
   "file_extension": ".py",
   "mimetype": "text/x-python",
   "name": "python",
   "nbconvert_exporter": "python",
   "pygments_lexer": "ipython3",
   "version": "3.9.1"
  }
 },
 "nbformat": 4,
 "nbformat_minor": 2
}
