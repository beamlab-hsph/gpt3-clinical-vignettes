{
 "cells": [
  {
   "cell_type": "code",
   "execution_count": 1,
   "metadata": {},
   "outputs": [],
   "source": [
    "from paths import *\n",
    "from utils import *\n",
    "import json\n",
    "import openai\n",
    "\n",
    "# Authenticate API\n",
    "with open(OPENAI_API_KEY_PATH, 'r') as f:\n",
    "    openai.api_key = json.loads(f.read())['API-KEY']\n",
    "    \n",
    "# Read config\n",
    "with open(TRIAGE_CONFIG_FILE, 'r') as f:\n",
    "    config = json.loads(f.read())\n",
    "    \n",
    "import itertools\n",
    "from collections import Counter\n",
    "from tqdm import tqdm\n",
    "import pandas as pd\n",
    "import numpy as np\n",
    "\n",
    "np.random.seed(config['SEED'])"
   ]
  },
  {
   "cell_type": "code",
   "execution_count": 2,
   "metadata": {},
   "outputs": [],
   "source": [
    "def construct_all_prompts(vignettes, prompt_fn):\n",
    "    \n",
    "    prompts = []\n",
    "    for i, row in vignettes.iterrows():\n",
    "        \n",
    "        if config['NPRIME'] == 0:\n",
    "             prompts.append([i, prompt_fn(None, row)])\n",
    "        else:\n",
    "            \n",
    "            # Remove vignette being evaluated from pool of priming examples\n",
    "            priming_vignettes = vignettes.drop(i)\n",
    "\n",
    "            # Get a priming example from each label\n",
    "            if config['NPRIME'] == 'representative':\n",
    "                for comb in itertools.product(\n",
    "                    *[list(priming_vignettes.loc[priming_vignettes['Correct Triage'] == triage].index) \n",
    "                      for triage in vignettes['Correct Triage'].unique()]):\n",
    "                    \n",
    "                    prompts.append([\n",
    "                        i,\n",
    "                        prompt_fn(\n",
    "                            priming_vignettes.loc[list(comb)],\n",
    "                            row\n",
    "                        )\n",
    "                    ])\n",
    "                \n",
    "            elif config['NPRIME'] == 'representative-sample':\n",
    "                if config[\"representative-sample-size\"] == 0:\n",
    "                    raise ValueError(\"representative-sample-size parameter needs to be >0 when NPRIME=representative-sample\")\n",
    "                \n",
    "                labelwise_vignette_indices = [list(priming_vignettes.loc[priming_vignettes['Correct Triage'] == triage].index) \n",
    "                                              for triage in vignettes['Correct Triage'].unique()]\n",
    "                \n",
    "                sample_indices = set(\n",
    "                    np.random.choice(np.prod([len(x) for x in labelwise_vignette_indices]), \n",
    "                                     replace=False,\n",
    "                                     size=config[\"representative-sample-size\"])\n",
    "                )\n",
    "                \n",
    "                for comb_idx, comb in enumerate(itertools.product(*labelwise_vignette_indices)):\n",
    "                    if comb_idx in sample_indices:\n",
    "                        prompts.append([\n",
    "                            i,\n",
    "                            prompt_fn(\n",
    "                                priming_vignettes.loc[list(comb)],\n",
    "                                row\n",
    "                            )\n",
    "                        ])\n",
    "                        sample_indices.remove(comb_idx)\n",
    "                \n",
    "            elif config['NPRIME'] > 0:\n",
    "                for comb in itertools.combinations(priming_vignettes.index, config['NPRIME']):\n",
    "                    prompts.append([\n",
    "                        i,            \n",
    "                        prompt_fn(\n",
    "                            priming_vignettes.loc[list(comb)],\n",
    "                            row,\n",
    "                        )\n",
    "                    ])\n",
    "            \n",
    "            else:\n",
    "                raise ValueError(f\"Found misspecified value for NPRIME:\", {config['NPRIME']})\n",
    "                         \n",
    "    return prompts"
   ]
  },
  {
   "cell_type": "markdown",
   "metadata": {},
   "source": [
    "# Vignettes - 2015"
   ]
  },
  {
   "cell_type": "markdown",
   "metadata": {},
   "source": [
    "### Read file"
   ]
  },
  {
   "cell_type": "code",
   "execution_count": 3,
   "metadata": {},
   "outputs": [
    {
     "name": "stdout",
     "output_type": "stream",
     "text": [
      "Non-emergent    15\n",
      "Emergent        15\n",
      "Self-care       15\n",
      "Name: Correct Triage, dtype: int64\n",
      "(45, 4)\n"
     ]
    },
    {
     "data": {
      "text/html": [
       "<div>\n",
       "<style scoped>\n",
       "    .dataframe tbody tr th:only-of-type {\n",
       "        vertical-align: middle;\n",
       "    }\n",
       "\n",
       "    .dataframe tbody tr th {\n",
       "        vertical-align: top;\n",
       "    }\n",
       "\n",
       "    .dataframe thead th {\n",
       "        text-align: right;\n",
       "    }\n",
       "</style>\n",
       "<table border=\"1\" class=\"dataframe\">\n",
       "  <thead>\n",
       "    <tr style=\"text-align: right;\">\n",
       "      <th></th>\n",
       "      <th>Correct Diagnosis</th>\n",
       "      <th>Problem</th>\n",
       "      <th>Simplified</th>\n",
       "      <th>Correct Triage</th>\n",
       "    </tr>\n",
       "  </thead>\n",
       "  <tbody>\n",
       "    <tr>\n",
       "      <th>0</th>\n",
       "      <td>Acute liver failure</td>\n",
       "      <td>A 48-year-old woman with a history of migraine...</td>\n",
       "      <td>48 y/o f, confusion, disorientation, increasin...</td>\n",
       "      <td>Emergent</td>\n",
       "    </tr>\n",
       "    <tr>\n",
       "      <th>1</th>\n",
       "      <td>Appendicitis</td>\n",
       "      <td>A 12-year-old girl presents with sudden-onset ...</td>\n",
       "      <td>12 y/o f, sudden onset severe abdominal pain, ...</td>\n",
       "      <td>Emergent</td>\n",
       "    </tr>\n",
       "    <tr>\n",
       "      <th>2</th>\n",
       "      <td>Asthma</td>\n",
       "      <td>A 27-year-old woman with a history of moderate...</td>\n",
       "      <td>27 y/o f, Hx of asthma, mild shortness of brea...</td>\n",
       "      <td>Emergent</td>\n",
       "    </tr>\n",
       "    <tr>\n",
       "      <th>3</th>\n",
       "      <td>COPD flare (more severe)</td>\n",
       "      <td>A 67-year-old woman with a history of COPD pre...</td>\n",
       "      <td>67 y/o f, Hx of COPD, 3 days worsening shortne...</td>\n",
       "      <td>Emergent</td>\n",
       "    </tr>\n",
       "    <tr>\n",
       "      <th>4</th>\n",
       "      <td>Deep vein thrombosis</td>\n",
       "      <td>A 65-year-old woman presents with unilateral l...</td>\n",
       "      <td>65 y/o f, 5 days swelling, pain in one leg, re...</td>\n",
       "      <td>Emergent</td>\n",
       "    </tr>\n",
       "  </tbody>\n",
       "</table>\n",
       "</div>"
      ],
      "text/plain": [
       "          Correct Diagnosis  \\\n",
       "0       Acute liver failure   \n",
       "1              Appendicitis   \n",
       "2                    Asthma   \n",
       "3  COPD flare (more severe)   \n",
       "4      Deep vein thrombosis   \n",
       "\n",
       "                                             Problem  \\\n",
       "0  A 48-year-old woman with a history of migraine...   \n",
       "1  A 12-year-old girl presents with sudden-onset ...   \n",
       "2  A 27-year-old woman with a history of moderate...   \n",
       "3  A 67-year-old woman with a history of COPD pre...   \n",
       "4  A 65-year-old woman presents with unilateral l...   \n",
       "\n",
       "                                          Simplified Correct Triage  \n",
       "0  48 y/o f, confusion, disorientation, increasin...       Emergent  \n",
       "1  12 y/o f, sudden onset severe abdominal pain, ...       Emergent  \n",
       "2  27 y/o f, Hx of asthma, mild shortness of brea...       Emergent  \n",
       "3  67 y/o f, Hx of COPD, 3 days worsening shortne...       Emergent  \n",
       "4  65 y/o f, 5 days swelling, pain in one leg, re...       Emergent  "
      ]
     },
     "execution_count": 3,
     "metadata": {},
     "output_type": "execute_result"
    }
   ],
   "source": [
    "vignettes15 = parse_vignettes_2015(VIGNETTES_2015_FP)\n",
    "print(vignettes15['Correct Triage'].value_counts())\n",
    "print(vignettes15.shape)\n",
    "vignettes15.head()"
   ]
  },
  {
   "cell_type": "markdown",
   "metadata": {},
   "source": [
    "### Prompts"
   ]
  },
  {
   "cell_type": "code",
   "execution_count": 4,
   "metadata": {},
   "outputs": [],
   "source": [
    "def construct_triage_prompt(priming_vignettes: pd.DataFrame, \n",
    "                            eval_vignette: pd.Series,\n",
    "                            separator: str ='\\n###\\n') -> str:\n",
    "    \n",
    "    CONTEXT = \"Given a clinical vignette, classify into one of the 3 \"\\\n",
    "              \"triage categories: Emergent, Non-emergent, and Self-care.\"\n",
    "\n",
    "    PROMPT = \"Vignette: {}\\nTriage: {}\"\n",
    "\n",
    "    completion_prompt = CONTEXT + separator\n",
    "    \n",
    "    if priming_vignettes is not None:\n",
    "        for _, row in priming_vignettes.iterrows():\n",
    "            completion_prompt += PROMPT.format(row['Problem'], row['Correct Triage']) + separator\n",
    "\n",
    "    completion_prompt += PROMPT.format(eval_vignette['Problem'], '').strip() \n",
    "\n",
    "    return completion_prompt"
   ]
  },
  {
   "cell_type": "code",
   "execution_count": 5,
   "metadata": {},
   "outputs": [
    {
     "name": "stdout",
     "output_type": "stream",
     "text": [
      "Total no. of prompts: 450\n",
      "\n",
      "Given a clinical vignette, classify into one of the 3 triage categories: Emergent, Non-emergent, and Self-care.\n",
      "###\n",
      "Vignette: A 65-year-old woman presents with unilateral leg pain and swelling of 5 days' duration. There is a history of hypertension, mild CHF, and recent hospitalization for pneumonia. She had been recuperating at home but on beginning to mobilize and walk, the right leg became painful, tender, and swollen. On examination, the right calf is 4 cm greater in circumference than the left when measured 10 cm below the tibial tuberosity. Superficial veins in the leg are more dilated on the right foot and the right leg is slightly redder than the left. There is some tenderness on palpation in the popliteal fossa behind the knee.\n",
      "Triage: Emergent\n",
      "###\n",
      "Vignette: A 45-year-old man presents with acute onset of pain and redness of the skin of his lower extremity. Low-grade fever is present and the pretibial area is erythematous, edematous, and tender.\n",
      "Triage: Non-emergent\n",
      "###\n",
      "Vignette: A 30-year-old man presents with a painful, swollen right eye for the past day. He reports minor pain on palpation of the eyelid and denies any history of trauma, crusting, or change in vision. He has no history of allergies or any eye conditions and denies the use of any new soaps, lotions, or creams. On exam, he has localized tenderness to palpation and erythema on the midline of the lower eyelid near the lid margin. The remainder of the physical exam, including the globe, is normal.\n",
      "Triage: Self-care\n",
      "###\n",
      "Vignette: A 48-year-old woman with a history of migraine headaches presents to the emergency room with altered mental status over the last several hours. She was found by her husband, earlier in the day, to be acutely disoriented and increasingly somnolent. On physical examination, she has scleral icterus, mild right upper quadrant tenderness, and asterixis. Preliminary laboratory studies are notable for a serum ALT of 6498 units/L, total bilirubin of 5.6 mg/dL, and INR of 6.8. Her husband reports that she has consistently been taking pain medications and started taking additional 500 mg acetaminophen pills several days ago for lower back pain. Further history reveals a medication list with multiple acetaminophen-containing preparations.\n",
      "Triage:\n"
     ]
    }
   ],
   "source": [
    "all_prompts = construct_all_prompts(vignettes15, construct_triage_prompt)\n",
    "print(f\"Total no. of prompts: {len(all_prompts)}\\n\") \n",
    "print(all_prompts[0][1])"
   ]
  },
  {
   "cell_type": "markdown",
   "metadata": {},
   "source": [
    "### Get completions"
   ]
  },
  {
   "cell_type": "code",
   "execution_count": 6,
   "metadata": {},
   "outputs": [
    {
     "name": "stderr",
     "output_type": "stream",
     "text": [
      "100%|██████████| 450/450 [07:04<00:00,  1.06it/s]\n"
     ]
    }
   ],
   "source": [
    "results = []\n",
    "for eval_vignette_idx, prompt in tqdm(all_prompts):\n",
    "    predicted_triage, prob_predicted_triage = get_completion_prob(prompt=prompt, gpt3_params=config['GPT-3-params'])\n",
    "    results.append({\n",
    "        'index': eval_vignette_idx,\n",
    "        'Prompt': prompt,\n",
    "        'Predicted Triage': predicted_triage, \n",
    "        'LogProb Predicted Triage': prob_predicted_triage}\n",
    "    ) \n",
    "    \n",
    "# Convert to dataframe\n",
    "results15 = vignettes15.join(\n",
    "    pd.DataFrame(results).set_index('index')\n",
    ")\n",
    "\n",
    "# Filter to keep selected columns and reorder\n",
    "results15 = results15[['Prompt', 'Problem', 'Correct Triage', 'Predicted Triage', 'LogProb Predicted Triage']]"
   ]
  },
  {
   "cell_type": "markdown",
   "metadata": {},
   "source": [
    "### Format and save results"
   ]
  },
  {
   "cell_type": "markdown",
   "metadata": {},
   "source": [
    "#### (i) All completions"
   ]
  },
  {
   "cell_type": "code",
   "execution_count": 60,
   "metadata": {},
   "outputs": [],
   "source": [
    "# Save completions\n",
    "results15.to_csv(PROCESSED/'vignettes15_triage_prediction_all.tsv', sep='\\t')"
   ]
  },
  {
   "cell_type": "markdown",
   "metadata": {},
   "source": [
    "(ii) Aggregated completions"
   ]
  },
  {
   "cell_type": "code",
   "execution_count": 56,
   "metadata": {},
   "outputs": [
    {
     "name": "stdout",
     "output_type": "stream",
     "text": [
      "Accuracy: 0.37777777777777777\n"
     ]
    }
   ],
   "source": [
    "if config['NPRIME'] != 0:\n",
    "    results15_agg = results15.groupby(['Problem', 'Correct Triage'])['Predicted Triage'].agg(\n",
    "        lambda s: Counter(s)).reset_index()\n",
    "    results15_agg['Correct(Yes/No)'] = results15_agg.apply(\n",
    "        lambda row: 'Yes' if (row['Predicted Triage'][row['Correct Triage']] >= row['Predicted Triage'].most_common(1)[0][1])\n",
    "                          else 'No',\n",
    "        axis=1\n",
    "    )\n",
    "    \n",
    "print(f\"Accuracy: {(results15_agg['Correct(Yes/No)'] == 'Yes').mean()}\")"
   ]
  },
  {
   "cell_type": "code",
   "execution_count": 63,
   "metadata": {},
   "outputs": [],
   "source": [
    "# Save aggregated results\n",
    "results15_agg.to_csv(PROCESSED/'vignettes15_triage_prediction_agg.tsv', sep='\\t')"
   ]
  },
  {
   "cell_type": "markdown",
   "metadata": {},
   "source": [
    "# Vignettes - 2020"
   ]
  },
  {
   "cell_type": "markdown",
   "metadata": {},
   "source": [
    "### Read file"
   ]
  },
  {
   "cell_type": "code",
   "execution_count": 27,
   "metadata": {},
   "outputs": [
    {
     "name": "stdout",
     "output_type": "stream",
     "text": [
      "1-week       12\n",
      "Emergent     12\n",
      "1-day        12\n",
      "Self-care    12\n",
      "Name: Correct Triage, dtype: int64\n",
      "(48, 4)\n"
     ]
    },
    {
     "data": {
      "text/html": [
       "<div>\n",
       "<style scoped>\n",
       "    .dataframe tbody tr th:only-of-type {\n",
       "        vertical-align: middle;\n",
       "    }\n",
       "\n",
       "    .dataframe tbody tr th {\n",
       "        vertical-align: top;\n",
       "    }\n",
       "\n",
       "    .dataframe thead th {\n",
       "        text-align: right;\n",
       "    }\n",
       "</style>\n",
       "<table border=\"1\" class=\"dataframe\">\n",
       "  <thead>\n",
       "    <tr style=\"text-align: right;\">\n",
       "      <th></th>\n",
       "      <th>Correct Diagnosis</th>\n",
       "      <th>Correct Triage</th>\n",
       "      <th>Problem</th>\n",
       "      <th>Additional Details</th>\n",
       "    </tr>\n",
       "    <tr>\n",
       "      <th>Case #</th>\n",
       "      <th></th>\n",
       "      <th></th>\n",
       "      <th></th>\n",
       "      <th></th>\n",
       "    </tr>\n",
       "  </thead>\n",
       "  <tbody>\n",
       "    <tr>\n",
       "      <th>1</th>\n",
       "      <td>Liver failure</td>\n",
       "      <td>Emergent</td>\n",
       "      <td>Confused and sleepy for several hours.</td>\n",
       "      <td>48-year-old female; Can't answer where she is ...</td>\n",
       "    </tr>\n",
       "    <tr>\n",
       "      <th>2</th>\n",
       "      <td>Appendicitis</td>\n",
       "      <td>Emergent</td>\n",
       "      <td>Sudden severe abdominal pain.</td>\n",
       "      <td>12-year-old female; Temperature 104 F (40 C); ...</td>\n",
       "    </tr>\n",
       "    <tr>\n",
       "      <th>3</th>\n",
       "      <td>Heart attack</td>\n",
       "      <td>Emergent</td>\n",
       "      <td>Chest pain for 1 day.</td>\n",
       "      <td>64-year-old male; Pain is in middle of chest u...</td>\n",
       "    </tr>\n",
       "    <tr>\n",
       "      <th>4</th>\n",
       "      <td>Kidney stones</td>\n",
       "      <td>Emergent</td>\n",
       "      <td>Left-sided pain between armpit and hip for 1 h...</td>\n",
       "      <td>45-year-old male; Severe pain; Pain starts on ...</td>\n",
       "    </tr>\n",
       "    <tr>\n",
       "      <th>5</th>\n",
       "      <td>Meningitis</td>\n",
       "      <td>Emergent</td>\n",
       "      <td>Headache for 3 days.</td>\n",
       "      <td>18-year-old male; Has fever 102; Neck stiff; L...</td>\n",
       "    </tr>\n",
       "  </tbody>\n",
       "</table>\n",
       "</div>"
      ],
      "text/plain": [
       "       Correct Diagnosis Correct Triage  \\\n",
       "Case #                                    \n",
       "1          Liver failure       Emergent   \n",
       "2           Appendicitis       Emergent   \n",
       "3           Heart attack       Emergent   \n",
       "4          Kidney stones       Emergent   \n",
       "5             Meningitis       Emergent   \n",
       "\n",
       "                                                  Problem  \\\n",
       "Case #                                                      \n",
       "1                  Confused and sleepy for several hours.   \n",
       "2                           Sudden severe abdominal pain.   \n",
       "3                                   Chest pain for 1 day.   \n",
       "4       Left-sided pain between armpit and hip for 1 h...   \n",
       "5                                    Headache for 3 days.   \n",
       "\n",
       "                                       Additional Details  \n",
       "Case #                                                     \n",
       "1       48-year-old female; Can't answer where she is ...  \n",
       "2       12-year-old female; Temperature 104 F (40 C); ...  \n",
       "3       64-year-old male; Pain is in middle of chest u...  \n",
       "4       45-year-old male; Severe pain; Pain starts on ...  \n",
       "5       18-year-old male; Has fever 102; Neck stiff; L...  "
      ]
     },
     "execution_count": 27,
     "metadata": {},
     "output_type": "execute_result"
    }
   ],
   "source": [
    "vignettes20 = parse_vignettes_2020(VIGNETTES_2020_FP)\n",
    "print(vignettes20['Correct Triage'].value_counts())\n",
    "print(vignettes20.shape)\n",
    "vignettes20.head()"
   ]
  },
  {
   "cell_type": "markdown",
   "metadata": {},
   "source": [
    "### Prompts"
   ]
  },
  {
   "cell_type": "code",
   "execution_count": 28,
   "metadata": {},
   "outputs": [],
   "source": [
    "def construct_triage_prompt(\n",
    "    priming_vignettes: pd.DataFrame, \n",
    "    eval_vignette: pd.Series,\n",
    "    separator: str ='\\n###\\n') -> str:\n",
    "    \n",
    "    CONTEXT = \"Given a clinical vignette and additional details, classify into one of the 4 \"\\\n",
    "              \"triage categories: 1-day, 1-week, Emergent, and Self-care.\"\n",
    "    PROMPT = \"Vignette: {}\\nAdditional Details: {}\\nTriage: {}\" \n",
    "\n",
    "    completion_prompt = CONTEXT + separator\n",
    "    \n",
    "    if priming_vignettes is not None:\n",
    "        for _, row in priming_vignettes.iterrows():\n",
    "            completion_prompt += PROMPT.format(row['Problem'], row['Additional Details'], row['Correct Triage']) \\\n",
    "                + separator\n",
    "\n",
    "    completion_prompt += PROMPT.format(eval_vignette['Problem'], eval_vignette['Additional Details'], '').strip() \n",
    "\n",
    "    return completion_prompt"
   ]
  },
  {
   "cell_type": "code",
   "execution_count": 30,
   "metadata": {},
   "outputs": [
    {
     "name": "stdout",
     "output_type": "stream",
     "text": [
      "Total no. of prompts: 480\n",
      "\n",
      "Given a clinical vignette and additional details, classify into one of the 4 triage categories: 1-day, 1-week, Emergent, and Self-care.\n",
      "###\n",
      "Vignette: Sudden severe abdominal pain.\n",
      "Additional Details: 12-year-old female; Temperature 104 F (40 C); Has nausea, vomiting, and diarrhea.\n",
      "Triage: Emergent\n",
      "###\n",
      "Vignette: Belly pain and diarrhea for 7 days.\n",
      "Additional Details: 4-year-old male; Nothing unusual in diet though did have a hamburger at a cookout 3 days before pain started; Has fever; Diarrhea may have blood in it.\n",
      "Triage: 1-day\n",
      "###\n",
      "Vignette: Upper abdominal pain for 2 months.\n",
      "Additional Details: 40-year-old male; Worse with spicy and fried foods; Worse if he eats late at night before sleeping; Voice is becoming hoarse; .\n",
      "Triage: 1-week\n",
      "###\n",
      "Vignette: White stuff coming out of vagina for 2 days.\n",
      "Additional Details: 40-year-old female; Vagina also itchy; Doesn't hurt to pee; No abdominal pain; No fever.\n",
      "Triage: Self-care\n",
      "###\n",
      "Vignette: Confused and sleepy for several hours.\n",
      "Additional Details: 48-year-old female; Can't answer where she is or what her name is (but she normally can); Takes Tylenol all the time for migraine, but recently took more.\n",
      "Triage:\n"
     ]
    }
   ],
   "source": [
    "all_prompts = construct_all_prompts(vignettes20, construct_triage_prompt)\n",
    "print(f\"Total no. of prompts: {len(all_prompts)}\\n\") \n",
    "print(all_prompts[0][1])"
   ]
  },
  {
   "cell_type": "markdown",
   "metadata": {},
   "source": [
    "### Completions"
   ]
  },
  {
   "cell_type": "code",
   "execution_count": 31,
   "metadata": {},
   "outputs": [
    {
     "name": "stderr",
     "output_type": "stream",
     "text": [
      "100%|██████████| 480/480 [06:18<00:00,  1.27it/s]\n"
     ]
    }
   ],
   "source": [
    "results = []\n",
    "for eval_vignette_idx, prompt in tqdm(all_prompts):\n",
    "    predicted_triage, prob_predicted_triage = get_completion_prob(prompt=prompt, gpt3_params=config['GPT-3-params'])\n",
    "    results.append({\n",
    "        'index': eval_vignette_idx,\n",
    "        'Prompt': prompt,\n",
    "        'Predicted Triage': predicted_triage, \n",
    "        'LogProb Predicted Triage': prob_predicted_triage}\n",
    "    ) \n",
    "    \n",
    "# Convert to dataframe\n",
    "results20 = vignettes20.join(\n",
    "    pd.DataFrame(results).set_index('index')\n",
    ")\n",
    "\n",
    "# Filter to keep selected columns and reorder\n",
    "results20 = results20[['Prompt', 'Problem', 'Additional Details', 'Correct Triage',\n",
    "                       'Predicted Triage', 'LogProb Predicted Triage']]"
   ]
  },
  {
   "cell_type": "markdown",
   "metadata": {},
   "source": [
    "### Format and save results"
   ]
  },
  {
   "cell_type": "markdown",
   "metadata": {},
   "source": [
    "#### (i) All completions"
   ]
  },
  {
   "cell_type": "code",
   "execution_count": 53,
   "metadata": {},
   "outputs": [],
   "source": [
    "# Save completions\n",
    "results20.to_csv(PROCESSED/'vignettes20_triage_prediction.all.tsv', sep='\\t')"
   ]
  },
  {
   "cell_type": "markdown",
   "metadata": {},
   "source": [
    "(ii) Aggregated completions"
   ]
  },
  {
   "cell_type": "code",
   "execution_count": 49,
   "metadata": {},
   "outputs": [
    {
     "name": "stdout",
     "output_type": "stream",
     "text": [
      "Accuracy: 0.4375\n"
     ]
    }
   ],
   "source": [
    "results20_agg = results20.groupby(['Problem', 'Additional Details', 'Correct Triage'])['Predicted Triage'].agg(\n",
    "    lambda s: Counter(s)).reset_index()\n",
    "results20_agg['Correct(Yes/No)'] = results20_agg.apply(\n",
    "    lambda row: 'Yes' if (row['Predicted Triage'][row['Correct Triage']] >= row['Predicted Triage'].most_common(1)[0][1])\n",
    "                      else 'No',\n",
    "    axis=1\n",
    ")\n",
    "print(f\"Accuracy: {(results20_agg['Correct(Yes/No)'] == 'Yes').mean()}\")"
   ]
  },
  {
   "cell_type": "code",
   "execution_count": 62,
   "metadata": {},
   "outputs": [],
   "source": [
    "# Save aggregated results\n",
    "results20_agg.to_csv(PROCESSED/'vignettes20_triage_prediction_agg.tsv', sep='\\t')"
   ]
  }
 ],
 "metadata": {
  "kernelspec": {
   "display_name": "Python [conda env:gpt3_vignettes]",
   "language": "python",
   "name": "conda-env-gpt3_vignettes-py"
  },
  "language_info": {
   "codemirror_mode": {
    "name": "ipython",
    "version": 3
   },
   "file_extension": ".py",
   "mimetype": "text/x-python",
   "name": "python",
   "nbconvert_exporter": "python",
   "pygments_lexer": "ipython3",
   "version": "3.6.12"
  }
 },
 "nbformat": 4,
 "nbformat_minor": 4
}
